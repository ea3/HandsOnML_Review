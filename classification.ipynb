{
 "cells": [
  {
   "cell_type": "markdown",
   "metadata": {},
   "source": [
    "## MNIST DATASET FOR CLASSIFICATION\n"
   ]
  },
  {
   "cell_type": "code",
   "execution_count": 1,
   "metadata": {},
   "outputs": [],
   "source": [
    "from sklearn.datasets import fetch_openml"
   ]
  },
  {
   "cell_type": "code",
   "execution_count": 2,
   "metadata": {},
   "outputs": [],
   "source": [
    "mnist = fetch_openml('mnist_784', version=1)"
   ]
  },
  {
   "cell_type": "code",
   "execution_count": 3,
   "metadata": {},
   "outputs": [
    {
     "data": {
      "text/plain": [
       "dict_keys(['data', 'target', 'frame', 'categories', 'feature_names', 'target_names', 'DESCR', 'details', 'url'])"
      ]
     },
     "execution_count": 3,
     "metadata": {},
     "output_type": "execute_result"
    }
   ],
   "source": [
    "mnist.keys()"
   ]
  },
  {
   "cell_type": "code",
   "execution_count": 4,
   "metadata": {},
   "outputs": [
    {
     "data": {
      "text/plain": [
       "\"**Author**: Yann LeCun, Corinna Cortes, Christopher J.C. Burges  \\n**Source**: [MNIST Website](http://yann.lecun.com/exdb/mnist/) - Date unknown  \\n**Please cite**:  \\n\\nThe MNIST database of handwritten digits with 784 features, raw data available at: http://yann.lecun.com/exdb/mnist/. It can be split in a training set of the first 60,000 examples, and a test set of 10,000 examples  \\n\\nIt is a subset of a larger set available from NIST. The digits have been size-normalized and centered in a fixed-size image. It is a good database for people who want to try learning techniques and pattern recognition methods on real-world data while spending minimal efforts on preprocessing and formatting. The original black and white (bilevel) images from NIST were size normalized to fit in a 20x20 pixel box while preserving their aspect ratio. The resulting images contain grey levels as a result of the anti-aliasing technique used by the normalization algorithm. the images were centered in a 28x28 image by computing the center of mass of the pixels, and translating the image so as to position this point at the center of the 28x28 field.  \\n\\nWith some classification methods (particularly template-based methods, such as SVM and K-nearest neighbors), the error rate improves when the digits are centered by bounding box rather than center of mass. If you do this kind of pre-processing, you should report it in your publications. The MNIST database was constructed from NIST's NIST originally designated SD-3 as their training set and SD-1 as their test set. However, SD-3 is much cleaner and easier to recognize than SD-1. The reason for this can be found on the fact that SD-3 was collected among Census Bureau employees, while SD-1 was collected among high-school students. Drawing sensible conclusions from learning experiments requires that the result be independent of the choice of training set and test among the complete set of samples. Therefore it was necessary to build a new database by mixing NIST's datasets.  \\n\\nThe MNIST training set is composed of 30,000 patterns from SD-3 and 30,000 patterns from SD-1. Our test set was composed of 5,000 patterns from SD-3 and 5,000 patterns from SD-1. The 60,000 pattern training set contained examples from approximately 250 writers. We made sure that the sets of writers of the training set and test set were disjoint. SD-1 contains 58,527 digit images written by 500 different writers. In contrast to SD-3, where blocks of data from each writer appeared in sequence, the data in SD-1 is scrambled. Writer identities for SD-1 is available and we used this information to unscramble the writers. We then split SD-1 in two: characters written by the first 250 writers went into our new training set. The remaining 250 writers were placed in our test set. Thus we had two sets with nearly 30,000 examples each. The new training set was completed with enough examples from SD-3, starting at pattern # 0, to make a full set of 60,000 training patterns. Similarly, the new test set was completed with SD-3 examples starting at pattern # 35,000 to make a full set with 60,000 test patterns. Only a subset of 10,000 test images (5,000 from SD-1 and 5,000 from SD-3) is available on this site. The full 60,000 sample training set is available.\\n\\nDownloaded from openml.org.\""
      ]
     },
     "execution_count": 4,
     "metadata": {},
     "output_type": "execute_result"
    }
   ],
   "source": [
    "mnist['DESCR']"
   ]
  },
  {
   "cell_type": "code",
   "execution_count": 5,
   "metadata": {},
   "outputs": [
    {
     "data": {
      "text/plain": [
       "['pixel1',\n",
       " 'pixel2',\n",
       " 'pixel3',\n",
       " 'pixel4',\n",
       " 'pixel5',\n",
       " 'pixel6',\n",
       " 'pixel7',\n",
       " 'pixel8',\n",
       " 'pixel9',\n",
       " 'pixel10',\n",
       " 'pixel11',\n",
       " 'pixel12',\n",
       " 'pixel13',\n",
       " 'pixel14',\n",
       " 'pixel15',\n",
       " 'pixel16',\n",
       " 'pixel17',\n",
       " 'pixel18',\n",
       " 'pixel19',\n",
       " 'pixel20',\n",
       " 'pixel21',\n",
       " 'pixel22',\n",
       " 'pixel23',\n",
       " 'pixel24',\n",
       " 'pixel25',\n",
       " 'pixel26',\n",
       " 'pixel27',\n",
       " 'pixel28',\n",
       " 'pixel29',\n",
       " 'pixel30',\n",
       " 'pixel31',\n",
       " 'pixel32',\n",
       " 'pixel33',\n",
       " 'pixel34',\n",
       " 'pixel35',\n",
       " 'pixel36',\n",
       " 'pixel37',\n",
       " 'pixel38',\n",
       " 'pixel39',\n",
       " 'pixel40',\n",
       " 'pixel41',\n",
       " 'pixel42',\n",
       " 'pixel43',\n",
       " 'pixel44',\n",
       " 'pixel45',\n",
       " 'pixel46',\n",
       " 'pixel47',\n",
       " 'pixel48',\n",
       " 'pixel49',\n",
       " 'pixel50',\n",
       " 'pixel51',\n",
       " 'pixel52',\n",
       " 'pixel53',\n",
       " 'pixel54',\n",
       " 'pixel55',\n",
       " 'pixel56',\n",
       " 'pixel57',\n",
       " 'pixel58',\n",
       " 'pixel59',\n",
       " 'pixel60',\n",
       " 'pixel61',\n",
       " 'pixel62',\n",
       " 'pixel63',\n",
       " 'pixel64',\n",
       " 'pixel65',\n",
       " 'pixel66',\n",
       " 'pixel67',\n",
       " 'pixel68',\n",
       " 'pixel69',\n",
       " 'pixel70',\n",
       " 'pixel71',\n",
       " 'pixel72',\n",
       " 'pixel73',\n",
       " 'pixel74',\n",
       " 'pixel75',\n",
       " 'pixel76',\n",
       " 'pixel77',\n",
       " 'pixel78',\n",
       " 'pixel79',\n",
       " 'pixel80',\n",
       " 'pixel81',\n",
       " 'pixel82',\n",
       " 'pixel83',\n",
       " 'pixel84',\n",
       " 'pixel85',\n",
       " 'pixel86',\n",
       " 'pixel87',\n",
       " 'pixel88',\n",
       " 'pixel89',\n",
       " 'pixel90',\n",
       " 'pixel91',\n",
       " 'pixel92',\n",
       " 'pixel93',\n",
       " 'pixel94',\n",
       " 'pixel95',\n",
       " 'pixel96',\n",
       " 'pixel97',\n",
       " 'pixel98',\n",
       " 'pixel99',\n",
       " 'pixel100',\n",
       " 'pixel101',\n",
       " 'pixel102',\n",
       " 'pixel103',\n",
       " 'pixel104',\n",
       " 'pixel105',\n",
       " 'pixel106',\n",
       " 'pixel107',\n",
       " 'pixel108',\n",
       " 'pixel109',\n",
       " 'pixel110',\n",
       " 'pixel111',\n",
       " 'pixel112',\n",
       " 'pixel113',\n",
       " 'pixel114',\n",
       " 'pixel115',\n",
       " 'pixel116',\n",
       " 'pixel117',\n",
       " 'pixel118',\n",
       " 'pixel119',\n",
       " 'pixel120',\n",
       " 'pixel121',\n",
       " 'pixel122',\n",
       " 'pixel123',\n",
       " 'pixel124',\n",
       " 'pixel125',\n",
       " 'pixel126',\n",
       " 'pixel127',\n",
       " 'pixel128',\n",
       " 'pixel129',\n",
       " 'pixel130',\n",
       " 'pixel131',\n",
       " 'pixel132',\n",
       " 'pixel133',\n",
       " 'pixel134',\n",
       " 'pixel135',\n",
       " 'pixel136',\n",
       " 'pixel137',\n",
       " 'pixel138',\n",
       " 'pixel139',\n",
       " 'pixel140',\n",
       " 'pixel141',\n",
       " 'pixel142',\n",
       " 'pixel143',\n",
       " 'pixel144',\n",
       " 'pixel145',\n",
       " 'pixel146',\n",
       " 'pixel147',\n",
       " 'pixel148',\n",
       " 'pixel149',\n",
       " 'pixel150',\n",
       " 'pixel151',\n",
       " 'pixel152',\n",
       " 'pixel153',\n",
       " 'pixel154',\n",
       " 'pixel155',\n",
       " 'pixel156',\n",
       " 'pixel157',\n",
       " 'pixel158',\n",
       " 'pixel159',\n",
       " 'pixel160',\n",
       " 'pixel161',\n",
       " 'pixel162',\n",
       " 'pixel163',\n",
       " 'pixel164',\n",
       " 'pixel165',\n",
       " 'pixel166',\n",
       " 'pixel167',\n",
       " 'pixel168',\n",
       " 'pixel169',\n",
       " 'pixel170',\n",
       " 'pixel171',\n",
       " 'pixel172',\n",
       " 'pixel173',\n",
       " 'pixel174',\n",
       " 'pixel175',\n",
       " 'pixel176',\n",
       " 'pixel177',\n",
       " 'pixel178',\n",
       " 'pixel179',\n",
       " 'pixel180',\n",
       " 'pixel181',\n",
       " 'pixel182',\n",
       " 'pixel183',\n",
       " 'pixel184',\n",
       " 'pixel185',\n",
       " 'pixel186',\n",
       " 'pixel187',\n",
       " 'pixel188',\n",
       " 'pixel189',\n",
       " 'pixel190',\n",
       " 'pixel191',\n",
       " 'pixel192',\n",
       " 'pixel193',\n",
       " 'pixel194',\n",
       " 'pixel195',\n",
       " 'pixel196',\n",
       " 'pixel197',\n",
       " 'pixel198',\n",
       " 'pixel199',\n",
       " 'pixel200',\n",
       " 'pixel201',\n",
       " 'pixel202',\n",
       " 'pixel203',\n",
       " 'pixel204',\n",
       " 'pixel205',\n",
       " 'pixel206',\n",
       " 'pixel207',\n",
       " 'pixel208',\n",
       " 'pixel209',\n",
       " 'pixel210',\n",
       " 'pixel211',\n",
       " 'pixel212',\n",
       " 'pixel213',\n",
       " 'pixel214',\n",
       " 'pixel215',\n",
       " 'pixel216',\n",
       " 'pixel217',\n",
       " 'pixel218',\n",
       " 'pixel219',\n",
       " 'pixel220',\n",
       " 'pixel221',\n",
       " 'pixel222',\n",
       " 'pixel223',\n",
       " 'pixel224',\n",
       " 'pixel225',\n",
       " 'pixel226',\n",
       " 'pixel227',\n",
       " 'pixel228',\n",
       " 'pixel229',\n",
       " 'pixel230',\n",
       " 'pixel231',\n",
       " 'pixel232',\n",
       " 'pixel233',\n",
       " 'pixel234',\n",
       " 'pixel235',\n",
       " 'pixel236',\n",
       " 'pixel237',\n",
       " 'pixel238',\n",
       " 'pixel239',\n",
       " 'pixel240',\n",
       " 'pixel241',\n",
       " 'pixel242',\n",
       " 'pixel243',\n",
       " 'pixel244',\n",
       " 'pixel245',\n",
       " 'pixel246',\n",
       " 'pixel247',\n",
       " 'pixel248',\n",
       " 'pixel249',\n",
       " 'pixel250',\n",
       " 'pixel251',\n",
       " 'pixel252',\n",
       " 'pixel253',\n",
       " 'pixel254',\n",
       " 'pixel255',\n",
       " 'pixel256',\n",
       " 'pixel257',\n",
       " 'pixel258',\n",
       " 'pixel259',\n",
       " 'pixel260',\n",
       " 'pixel261',\n",
       " 'pixel262',\n",
       " 'pixel263',\n",
       " 'pixel264',\n",
       " 'pixel265',\n",
       " 'pixel266',\n",
       " 'pixel267',\n",
       " 'pixel268',\n",
       " 'pixel269',\n",
       " 'pixel270',\n",
       " 'pixel271',\n",
       " 'pixel272',\n",
       " 'pixel273',\n",
       " 'pixel274',\n",
       " 'pixel275',\n",
       " 'pixel276',\n",
       " 'pixel277',\n",
       " 'pixel278',\n",
       " 'pixel279',\n",
       " 'pixel280',\n",
       " 'pixel281',\n",
       " 'pixel282',\n",
       " 'pixel283',\n",
       " 'pixel284',\n",
       " 'pixel285',\n",
       " 'pixel286',\n",
       " 'pixel287',\n",
       " 'pixel288',\n",
       " 'pixel289',\n",
       " 'pixel290',\n",
       " 'pixel291',\n",
       " 'pixel292',\n",
       " 'pixel293',\n",
       " 'pixel294',\n",
       " 'pixel295',\n",
       " 'pixel296',\n",
       " 'pixel297',\n",
       " 'pixel298',\n",
       " 'pixel299',\n",
       " 'pixel300',\n",
       " 'pixel301',\n",
       " 'pixel302',\n",
       " 'pixel303',\n",
       " 'pixel304',\n",
       " 'pixel305',\n",
       " 'pixel306',\n",
       " 'pixel307',\n",
       " 'pixel308',\n",
       " 'pixel309',\n",
       " 'pixel310',\n",
       " 'pixel311',\n",
       " 'pixel312',\n",
       " 'pixel313',\n",
       " 'pixel314',\n",
       " 'pixel315',\n",
       " 'pixel316',\n",
       " 'pixel317',\n",
       " 'pixel318',\n",
       " 'pixel319',\n",
       " 'pixel320',\n",
       " 'pixel321',\n",
       " 'pixel322',\n",
       " 'pixel323',\n",
       " 'pixel324',\n",
       " 'pixel325',\n",
       " 'pixel326',\n",
       " 'pixel327',\n",
       " 'pixel328',\n",
       " 'pixel329',\n",
       " 'pixel330',\n",
       " 'pixel331',\n",
       " 'pixel332',\n",
       " 'pixel333',\n",
       " 'pixel334',\n",
       " 'pixel335',\n",
       " 'pixel336',\n",
       " 'pixel337',\n",
       " 'pixel338',\n",
       " 'pixel339',\n",
       " 'pixel340',\n",
       " 'pixel341',\n",
       " 'pixel342',\n",
       " 'pixel343',\n",
       " 'pixel344',\n",
       " 'pixel345',\n",
       " 'pixel346',\n",
       " 'pixel347',\n",
       " 'pixel348',\n",
       " 'pixel349',\n",
       " 'pixel350',\n",
       " 'pixel351',\n",
       " 'pixel352',\n",
       " 'pixel353',\n",
       " 'pixel354',\n",
       " 'pixel355',\n",
       " 'pixel356',\n",
       " 'pixel357',\n",
       " 'pixel358',\n",
       " 'pixel359',\n",
       " 'pixel360',\n",
       " 'pixel361',\n",
       " 'pixel362',\n",
       " 'pixel363',\n",
       " 'pixel364',\n",
       " 'pixel365',\n",
       " 'pixel366',\n",
       " 'pixel367',\n",
       " 'pixel368',\n",
       " 'pixel369',\n",
       " 'pixel370',\n",
       " 'pixel371',\n",
       " 'pixel372',\n",
       " 'pixel373',\n",
       " 'pixel374',\n",
       " 'pixel375',\n",
       " 'pixel376',\n",
       " 'pixel377',\n",
       " 'pixel378',\n",
       " 'pixel379',\n",
       " 'pixel380',\n",
       " 'pixel381',\n",
       " 'pixel382',\n",
       " 'pixel383',\n",
       " 'pixel384',\n",
       " 'pixel385',\n",
       " 'pixel386',\n",
       " 'pixel387',\n",
       " 'pixel388',\n",
       " 'pixel389',\n",
       " 'pixel390',\n",
       " 'pixel391',\n",
       " 'pixel392',\n",
       " 'pixel393',\n",
       " 'pixel394',\n",
       " 'pixel395',\n",
       " 'pixel396',\n",
       " 'pixel397',\n",
       " 'pixel398',\n",
       " 'pixel399',\n",
       " 'pixel400',\n",
       " 'pixel401',\n",
       " 'pixel402',\n",
       " 'pixel403',\n",
       " 'pixel404',\n",
       " 'pixel405',\n",
       " 'pixel406',\n",
       " 'pixel407',\n",
       " 'pixel408',\n",
       " 'pixel409',\n",
       " 'pixel410',\n",
       " 'pixel411',\n",
       " 'pixel412',\n",
       " 'pixel413',\n",
       " 'pixel414',\n",
       " 'pixel415',\n",
       " 'pixel416',\n",
       " 'pixel417',\n",
       " 'pixel418',\n",
       " 'pixel419',\n",
       " 'pixel420',\n",
       " 'pixel421',\n",
       " 'pixel422',\n",
       " 'pixel423',\n",
       " 'pixel424',\n",
       " 'pixel425',\n",
       " 'pixel426',\n",
       " 'pixel427',\n",
       " 'pixel428',\n",
       " 'pixel429',\n",
       " 'pixel430',\n",
       " 'pixel431',\n",
       " 'pixel432',\n",
       " 'pixel433',\n",
       " 'pixel434',\n",
       " 'pixel435',\n",
       " 'pixel436',\n",
       " 'pixel437',\n",
       " 'pixel438',\n",
       " 'pixel439',\n",
       " 'pixel440',\n",
       " 'pixel441',\n",
       " 'pixel442',\n",
       " 'pixel443',\n",
       " 'pixel444',\n",
       " 'pixel445',\n",
       " 'pixel446',\n",
       " 'pixel447',\n",
       " 'pixel448',\n",
       " 'pixel449',\n",
       " 'pixel450',\n",
       " 'pixel451',\n",
       " 'pixel452',\n",
       " 'pixel453',\n",
       " 'pixel454',\n",
       " 'pixel455',\n",
       " 'pixel456',\n",
       " 'pixel457',\n",
       " 'pixel458',\n",
       " 'pixel459',\n",
       " 'pixel460',\n",
       " 'pixel461',\n",
       " 'pixel462',\n",
       " 'pixel463',\n",
       " 'pixel464',\n",
       " 'pixel465',\n",
       " 'pixel466',\n",
       " 'pixel467',\n",
       " 'pixel468',\n",
       " 'pixel469',\n",
       " 'pixel470',\n",
       " 'pixel471',\n",
       " 'pixel472',\n",
       " 'pixel473',\n",
       " 'pixel474',\n",
       " 'pixel475',\n",
       " 'pixel476',\n",
       " 'pixel477',\n",
       " 'pixel478',\n",
       " 'pixel479',\n",
       " 'pixel480',\n",
       " 'pixel481',\n",
       " 'pixel482',\n",
       " 'pixel483',\n",
       " 'pixel484',\n",
       " 'pixel485',\n",
       " 'pixel486',\n",
       " 'pixel487',\n",
       " 'pixel488',\n",
       " 'pixel489',\n",
       " 'pixel490',\n",
       " 'pixel491',\n",
       " 'pixel492',\n",
       " 'pixel493',\n",
       " 'pixel494',\n",
       " 'pixel495',\n",
       " 'pixel496',\n",
       " 'pixel497',\n",
       " 'pixel498',\n",
       " 'pixel499',\n",
       " 'pixel500',\n",
       " 'pixel501',\n",
       " 'pixel502',\n",
       " 'pixel503',\n",
       " 'pixel504',\n",
       " 'pixel505',\n",
       " 'pixel506',\n",
       " 'pixel507',\n",
       " 'pixel508',\n",
       " 'pixel509',\n",
       " 'pixel510',\n",
       " 'pixel511',\n",
       " 'pixel512',\n",
       " 'pixel513',\n",
       " 'pixel514',\n",
       " 'pixel515',\n",
       " 'pixel516',\n",
       " 'pixel517',\n",
       " 'pixel518',\n",
       " 'pixel519',\n",
       " 'pixel520',\n",
       " 'pixel521',\n",
       " 'pixel522',\n",
       " 'pixel523',\n",
       " 'pixel524',\n",
       " 'pixel525',\n",
       " 'pixel526',\n",
       " 'pixel527',\n",
       " 'pixel528',\n",
       " 'pixel529',\n",
       " 'pixel530',\n",
       " 'pixel531',\n",
       " 'pixel532',\n",
       " 'pixel533',\n",
       " 'pixel534',\n",
       " 'pixel535',\n",
       " 'pixel536',\n",
       " 'pixel537',\n",
       " 'pixel538',\n",
       " 'pixel539',\n",
       " 'pixel540',\n",
       " 'pixel541',\n",
       " 'pixel542',\n",
       " 'pixel543',\n",
       " 'pixel544',\n",
       " 'pixel545',\n",
       " 'pixel546',\n",
       " 'pixel547',\n",
       " 'pixel548',\n",
       " 'pixel549',\n",
       " 'pixel550',\n",
       " 'pixel551',\n",
       " 'pixel552',\n",
       " 'pixel553',\n",
       " 'pixel554',\n",
       " 'pixel555',\n",
       " 'pixel556',\n",
       " 'pixel557',\n",
       " 'pixel558',\n",
       " 'pixel559',\n",
       " 'pixel560',\n",
       " 'pixel561',\n",
       " 'pixel562',\n",
       " 'pixel563',\n",
       " 'pixel564',\n",
       " 'pixel565',\n",
       " 'pixel566',\n",
       " 'pixel567',\n",
       " 'pixel568',\n",
       " 'pixel569',\n",
       " 'pixel570',\n",
       " 'pixel571',\n",
       " 'pixel572',\n",
       " 'pixel573',\n",
       " 'pixel574',\n",
       " 'pixel575',\n",
       " 'pixel576',\n",
       " 'pixel577',\n",
       " 'pixel578',\n",
       " 'pixel579',\n",
       " 'pixel580',\n",
       " 'pixel581',\n",
       " 'pixel582',\n",
       " 'pixel583',\n",
       " 'pixel584',\n",
       " 'pixel585',\n",
       " 'pixel586',\n",
       " 'pixel587',\n",
       " 'pixel588',\n",
       " 'pixel589',\n",
       " 'pixel590',\n",
       " 'pixel591',\n",
       " 'pixel592',\n",
       " 'pixel593',\n",
       " 'pixel594',\n",
       " 'pixel595',\n",
       " 'pixel596',\n",
       " 'pixel597',\n",
       " 'pixel598',\n",
       " 'pixel599',\n",
       " 'pixel600',\n",
       " 'pixel601',\n",
       " 'pixel602',\n",
       " 'pixel603',\n",
       " 'pixel604',\n",
       " 'pixel605',\n",
       " 'pixel606',\n",
       " 'pixel607',\n",
       " 'pixel608',\n",
       " 'pixel609',\n",
       " 'pixel610',\n",
       " 'pixel611',\n",
       " 'pixel612',\n",
       " 'pixel613',\n",
       " 'pixel614',\n",
       " 'pixel615',\n",
       " 'pixel616',\n",
       " 'pixel617',\n",
       " 'pixel618',\n",
       " 'pixel619',\n",
       " 'pixel620',\n",
       " 'pixel621',\n",
       " 'pixel622',\n",
       " 'pixel623',\n",
       " 'pixel624',\n",
       " 'pixel625',\n",
       " 'pixel626',\n",
       " 'pixel627',\n",
       " 'pixel628',\n",
       " 'pixel629',\n",
       " 'pixel630',\n",
       " 'pixel631',\n",
       " 'pixel632',\n",
       " 'pixel633',\n",
       " 'pixel634',\n",
       " 'pixel635',\n",
       " 'pixel636',\n",
       " 'pixel637',\n",
       " 'pixel638',\n",
       " 'pixel639',\n",
       " 'pixel640',\n",
       " 'pixel641',\n",
       " 'pixel642',\n",
       " 'pixel643',\n",
       " 'pixel644',\n",
       " 'pixel645',\n",
       " 'pixel646',\n",
       " 'pixel647',\n",
       " 'pixel648',\n",
       " 'pixel649',\n",
       " 'pixel650',\n",
       " 'pixel651',\n",
       " 'pixel652',\n",
       " 'pixel653',\n",
       " 'pixel654',\n",
       " 'pixel655',\n",
       " 'pixel656',\n",
       " 'pixel657',\n",
       " 'pixel658',\n",
       " 'pixel659',\n",
       " 'pixel660',\n",
       " 'pixel661',\n",
       " 'pixel662',\n",
       " 'pixel663',\n",
       " 'pixel664',\n",
       " 'pixel665',\n",
       " 'pixel666',\n",
       " 'pixel667',\n",
       " 'pixel668',\n",
       " 'pixel669',\n",
       " 'pixel670',\n",
       " 'pixel671',\n",
       " 'pixel672',\n",
       " 'pixel673',\n",
       " 'pixel674',\n",
       " 'pixel675',\n",
       " 'pixel676',\n",
       " 'pixel677',\n",
       " 'pixel678',\n",
       " 'pixel679',\n",
       " 'pixel680',\n",
       " 'pixel681',\n",
       " 'pixel682',\n",
       " 'pixel683',\n",
       " 'pixel684',\n",
       " 'pixel685',\n",
       " 'pixel686',\n",
       " 'pixel687',\n",
       " 'pixel688',\n",
       " 'pixel689',\n",
       " 'pixel690',\n",
       " 'pixel691',\n",
       " 'pixel692',\n",
       " 'pixel693',\n",
       " 'pixel694',\n",
       " 'pixel695',\n",
       " 'pixel696',\n",
       " 'pixel697',\n",
       " 'pixel698',\n",
       " 'pixel699',\n",
       " 'pixel700',\n",
       " 'pixel701',\n",
       " 'pixel702',\n",
       " 'pixel703',\n",
       " 'pixel704',\n",
       " 'pixel705',\n",
       " 'pixel706',\n",
       " 'pixel707',\n",
       " 'pixel708',\n",
       " 'pixel709',\n",
       " 'pixel710',\n",
       " 'pixel711',\n",
       " 'pixel712',\n",
       " 'pixel713',\n",
       " 'pixel714',\n",
       " 'pixel715',\n",
       " 'pixel716',\n",
       " 'pixel717',\n",
       " 'pixel718',\n",
       " 'pixel719',\n",
       " 'pixel720',\n",
       " 'pixel721',\n",
       " 'pixel722',\n",
       " 'pixel723',\n",
       " 'pixel724',\n",
       " 'pixel725',\n",
       " 'pixel726',\n",
       " 'pixel727',\n",
       " 'pixel728',\n",
       " 'pixel729',\n",
       " 'pixel730',\n",
       " 'pixel731',\n",
       " 'pixel732',\n",
       " 'pixel733',\n",
       " 'pixel734',\n",
       " 'pixel735',\n",
       " 'pixel736',\n",
       " 'pixel737',\n",
       " 'pixel738',\n",
       " 'pixel739',\n",
       " 'pixel740',\n",
       " 'pixel741',\n",
       " 'pixel742',\n",
       " 'pixel743',\n",
       " 'pixel744',\n",
       " 'pixel745',\n",
       " 'pixel746',\n",
       " 'pixel747',\n",
       " 'pixel748',\n",
       " 'pixel749',\n",
       " 'pixel750',\n",
       " 'pixel751',\n",
       " 'pixel752',\n",
       " 'pixel753',\n",
       " 'pixel754',\n",
       " 'pixel755',\n",
       " 'pixel756',\n",
       " 'pixel757',\n",
       " 'pixel758',\n",
       " 'pixel759',\n",
       " 'pixel760',\n",
       " 'pixel761',\n",
       " 'pixel762',\n",
       " 'pixel763',\n",
       " 'pixel764',\n",
       " 'pixel765',\n",
       " 'pixel766',\n",
       " 'pixel767',\n",
       " 'pixel768',\n",
       " 'pixel769',\n",
       " 'pixel770',\n",
       " 'pixel771',\n",
       " 'pixel772',\n",
       " 'pixel773',\n",
       " 'pixel774',\n",
       " 'pixel775',\n",
       " 'pixel776',\n",
       " 'pixel777',\n",
       " 'pixel778',\n",
       " 'pixel779',\n",
       " 'pixel780',\n",
       " 'pixel781',\n",
       " 'pixel782',\n",
       " 'pixel783',\n",
       " 'pixel784']"
      ]
     },
     "execution_count": 5,
     "metadata": {},
     "output_type": "execute_result"
    }
   ],
   "source": [
    "mnist['feature_names']"
   ]
  },
  {
   "cell_type": "code",
   "execution_count": 6,
   "metadata": {},
   "outputs": [
    {
     "data": {
      "text/plain": [
       "array(['5', '0', '4', ..., '4', '5', '6'], dtype=object)"
      ]
     },
     "execution_count": 6,
     "metadata": {},
     "output_type": "execute_result"
    }
   ],
   "source": [
    "mnist['target']"
   ]
  },
  {
   "cell_type": "code",
   "execution_count": 7,
   "metadata": {},
   "outputs": [
    {
     "data": {
      "text/plain": [
       "array([[0., 0., 0., ..., 0., 0., 0.],\n",
       "       [0., 0., 0., ..., 0., 0., 0.],\n",
       "       [0., 0., 0., ..., 0., 0., 0.],\n",
       "       ...,\n",
       "       [0., 0., 0., ..., 0., 0., 0.],\n",
       "       [0., 0., 0., ..., 0., 0., 0.],\n",
       "       [0., 0., 0., ..., 0., 0., 0.]])"
      ]
     },
     "execution_count": 7,
     "metadata": {},
     "output_type": "execute_result"
    }
   ],
   "source": [
    "mnist['data']"
   ]
  },
  {
   "cell_type": "code",
   "execution_count": 8,
   "metadata": {},
   "outputs": [],
   "source": [
    "# DATA AND LABELS\n",
    "X, y = mnist['data'], mnist['target']"
   ]
  },
  {
   "cell_type": "code",
   "execution_count": 9,
   "metadata": {},
   "outputs": [
    {
     "data": {
      "text/plain": [
       "(70000, 784)"
      ]
     },
     "execution_count": 9,
     "metadata": {},
     "output_type": "execute_result"
    }
   ],
   "source": [
    "X.shape"
   ]
  },
  {
   "cell_type": "code",
   "execution_count": 10,
   "metadata": {},
   "outputs": [
    {
     "data": {
      "text/plain": [
       "(70000,)"
      ]
     },
     "execution_count": 10,
     "metadata": {},
     "output_type": "execute_result"
    }
   ],
   "source": [
    "y.shape"
   ]
  },
  {
   "cell_type": "code",
   "execution_count": 11,
   "metadata": {},
   "outputs": [],
   "source": [
    "import matplotlib as mpl\n",
    "import matplotlib.pyplot as plt"
   ]
  },
  {
   "cell_type": "code",
   "execution_count": 12,
   "metadata": {},
   "outputs": [],
   "source": [
    "some_digit = X[0]"
   ]
  },
  {
   "cell_type": "code",
   "execution_count": 13,
   "metadata": {},
   "outputs": [
    {
     "data": {
      "text/plain": [
       "numpy.ndarray"
      ]
     },
     "execution_count": 13,
     "metadata": {},
     "output_type": "execute_result"
    }
   ],
   "source": [
    "type(some_digit)"
   ]
  },
  {
   "cell_type": "code",
   "execution_count": 14,
   "metadata": {},
   "outputs": [
    {
     "data": {
      "text/plain": [
       "(784,)"
      ]
     },
     "execution_count": 14,
     "metadata": {},
     "output_type": "execute_result"
    }
   ],
   "source": [
    "some_digit.shape"
   ]
  },
  {
   "cell_type": "code",
   "execution_count": 15,
   "metadata": {},
   "outputs": [],
   "source": [
    "some_digit_image = some_digit.reshape(28, 28)"
   ]
  },
  {
   "cell_type": "code",
   "execution_count": 16,
   "metadata": {},
   "outputs": [
    {
     "data": {
      "text/plain": [
       "array([[  0.,   0.,   0.,   0.,   0.,   0.,   0.,   0.,   0.,   0.,   0.,\n",
       "          0.,   0.,   0.,   0.,   0.,   0.,   0.,   0.,   0.,   0.,   0.,\n",
       "          0.,   0.,   0.,   0.,   0.,   0.],\n",
       "       [  0.,   0.,   0.,   0.,   0.,   0.,   0.,   0.,   0.,   0.,   0.,\n",
       "          0.,   0.,   0.,   0.,   0.,   0.,   0.,   0.,   0.,   0.,   0.,\n",
       "          0.,   0.,   0.,   0.,   0.,   0.],\n",
       "       [  0.,   0.,   0.,   0.,   0.,   0.,   0.,   0.,   0.,   0.,   0.,\n",
       "          0.,   0.,   0.,   0.,   0.,   0.,   0.,   0.,   0.,   0.,   0.,\n",
       "          0.,   0.,   0.,   0.,   0.,   0.],\n",
       "       [  0.,   0.,   0.,   0.,   0.,   0.,   0.,   0.,   0.,   0.,   0.,\n",
       "          0.,   0.,   0.,   0.,   0.,   0.,   0.,   0.,   0.,   0.,   0.,\n",
       "          0.,   0.,   0.,   0.,   0.,   0.],\n",
       "       [  0.,   0.,   0.,   0.,   0.,   0.,   0.,   0.,   0.,   0.,   0.,\n",
       "          0.,   0.,   0.,   0.,   0.,   0.,   0.,   0.,   0.,   0.,   0.,\n",
       "          0.,   0.,   0.,   0.,   0.,   0.],\n",
       "       [  0.,   0.,   0.,   0.,   0.,   0.,   0.,   0.,   0.,   0.,   0.,\n",
       "          0.,   3.,  18.,  18.,  18., 126., 136., 175.,  26., 166., 255.,\n",
       "        247., 127.,   0.,   0.,   0.,   0.],\n",
       "       [  0.,   0.,   0.,   0.,   0.,   0.,   0.,   0.,  30.,  36.,  94.,\n",
       "        154., 170., 253., 253., 253., 253., 253., 225., 172., 253., 242.,\n",
       "        195.,  64.,   0.,   0.,   0.,   0.],\n",
       "       [  0.,   0.,   0.,   0.,   0.,   0.,   0.,  49., 238., 253., 253.,\n",
       "        253., 253., 253., 253., 253., 253., 251.,  93.,  82.,  82.,  56.,\n",
       "         39.,   0.,   0.,   0.,   0.,   0.],\n",
       "       [  0.,   0.,   0.,   0.,   0.,   0.,   0.,  18., 219., 253., 253.,\n",
       "        253., 253., 253., 198., 182., 247., 241.,   0.,   0.,   0.,   0.,\n",
       "          0.,   0.,   0.,   0.,   0.,   0.],\n",
       "       [  0.,   0.,   0.,   0.,   0.,   0.,   0.,   0.,  80., 156., 107.,\n",
       "        253., 253., 205.,  11.,   0.,  43., 154.,   0.,   0.,   0.,   0.,\n",
       "          0.,   0.,   0.,   0.,   0.,   0.],\n",
       "       [  0.,   0.,   0.,   0.,   0.,   0.,   0.,   0.,   0.,  14.,   1.,\n",
       "        154., 253.,  90.,   0.,   0.,   0.,   0.,   0.,   0.,   0.,   0.,\n",
       "          0.,   0.,   0.,   0.,   0.,   0.],\n",
       "       [  0.,   0.,   0.,   0.,   0.,   0.,   0.,   0.,   0.,   0.,   0.,\n",
       "        139., 253., 190.,   2.,   0.,   0.,   0.,   0.,   0.,   0.,   0.,\n",
       "          0.,   0.,   0.,   0.,   0.,   0.],\n",
       "       [  0.,   0.,   0.,   0.,   0.,   0.,   0.,   0.,   0.,   0.,   0.,\n",
       "         11., 190., 253.,  70.,   0.,   0.,   0.,   0.,   0.,   0.,   0.,\n",
       "          0.,   0.,   0.,   0.,   0.,   0.],\n",
       "       [  0.,   0.,   0.,   0.,   0.,   0.,   0.,   0.,   0.,   0.,   0.,\n",
       "          0.,  35., 241., 225., 160., 108.,   1.,   0.,   0.,   0.,   0.,\n",
       "          0.,   0.,   0.,   0.,   0.,   0.],\n",
       "       [  0.,   0.,   0.,   0.,   0.,   0.,   0.,   0.,   0.,   0.,   0.,\n",
       "          0.,   0.,  81., 240., 253., 253., 119.,  25.,   0.,   0.,   0.,\n",
       "          0.,   0.,   0.,   0.,   0.,   0.],\n",
       "       [  0.,   0.,   0.,   0.,   0.,   0.,   0.,   0.,   0.,   0.,   0.,\n",
       "          0.,   0.,   0.,  45., 186., 253., 253., 150.,  27.,   0.,   0.,\n",
       "          0.,   0.,   0.,   0.,   0.,   0.],\n",
       "       [  0.,   0.,   0.,   0.,   0.,   0.,   0.,   0.,   0.,   0.,   0.,\n",
       "          0.,   0.,   0.,   0.,  16.,  93., 252., 253., 187.,   0.,   0.,\n",
       "          0.,   0.,   0.,   0.,   0.,   0.],\n",
       "       [  0.,   0.,   0.,   0.,   0.,   0.,   0.,   0.,   0.,   0.,   0.,\n",
       "          0.,   0.,   0.,   0.,   0.,   0., 249., 253., 249.,  64.,   0.,\n",
       "          0.,   0.,   0.,   0.,   0.,   0.],\n",
       "       [  0.,   0.,   0.,   0.,   0.,   0.,   0.,   0.,   0.,   0.,   0.,\n",
       "          0.,   0.,   0.,  46., 130., 183., 253., 253., 207.,   2.,   0.,\n",
       "          0.,   0.,   0.,   0.,   0.,   0.],\n",
       "       [  0.,   0.,   0.,   0.,   0.,   0.,   0.,   0.,   0.,   0.,   0.,\n",
       "          0.,  39., 148., 229., 253., 253., 253., 250., 182.,   0.,   0.,\n",
       "          0.,   0.,   0.,   0.,   0.,   0.],\n",
       "       [  0.,   0.,   0.,   0.,   0.,   0.,   0.,   0.,   0.,   0.,  24.,\n",
       "        114., 221., 253., 253., 253., 253., 201.,  78.,   0.,   0.,   0.,\n",
       "          0.,   0.,   0.,   0.,   0.,   0.],\n",
       "       [  0.,   0.,   0.,   0.,   0.,   0.,   0.,   0.,  23.,  66., 213.,\n",
       "        253., 253., 253., 253., 198.,  81.,   2.,   0.,   0.,   0.,   0.,\n",
       "          0.,   0.,   0.,   0.,   0.,   0.],\n",
       "       [  0.,   0.,   0.,   0.,   0.,   0.,  18., 171., 219., 253., 253.,\n",
       "        253., 253., 195.,  80.,   9.,   0.,   0.,   0.,   0.,   0.,   0.,\n",
       "          0.,   0.,   0.,   0.,   0.,   0.],\n",
       "       [  0.,   0.,   0.,   0.,  55., 172., 226., 253., 253., 253., 253.,\n",
       "        244., 133.,  11.,   0.,   0.,   0.,   0.,   0.,   0.,   0.,   0.,\n",
       "          0.,   0.,   0.,   0.,   0.,   0.],\n",
       "       [  0.,   0.,   0.,   0., 136., 253., 253., 253., 212., 135., 132.,\n",
       "         16.,   0.,   0.,   0.,   0.,   0.,   0.,   0.,   0.,   0.,   0.,\n",
       "          0.,   0.,   0.,   0.,   0.,   0.],\n",
       "       [  0.,   0.,   0.,   0.,   0.,   0.,   0.,   0.,   0.,   0.,   0.,\n",
       "          0.,   0.,   0.,   0.,   0.,   0.,   0.,   0.,   0.,   0.,   0.,\n",
       "          0.,   0.,   0.,   0.,   0.,   0.],\n",
       "       [  0.,   0.,   0.,   0.,   0.,   0.,   0.,   0.,   0.,   0.,   0.,\n",
       "          0.,   0.,   0.,   0.,   0.,   0.,   0.,   0.,   0.,   0.,   0.,\n",
       "          0.,   0.,   0.,   0.,   0.,   0.],\n",
       "       [  0.,   0.,   0.,   0.,   0.,   0.,   0.,   0.,   0.,   0.,   0.,\n",
       "          0.,   0.,   0.,   0.,   0.,   0.,   0.,   0.,   0.,   0.,   0.,\n",
       "          0.,   0.,   0.,   0.,   0.,   0.]])"
      ]
     },
     "execution_count": 16,
     "metadata": {},
     "output_type": "execute_result"
    }
   ],
   "source": [
    "some_digit_image"
   ]
  },
  {
   "cell_type": "code",
   "execution_count": 17,
   "metadata": {},
   "outputs": [
    {
     "data": {
      "text/plain": [
       "(28, 28)"
      ]
     },
     "execution_count": 17,
     "metadata": {},
     "output_type": "execute_result"
    }
   ],
   "source": [
    "some_digit_image.shape"
   ]
  },
  {
   "cell_type": "code",
   "execution_count": 18,
   "metadata": {},
   "outputs": [
    {
     "data": {
      "image/png": "[encoded data removed]",
      "text/plain": [
       "<Figure size 432x288 with 1 Axes>"
      ]
     },
     "metadata": {
      "needs_background": "light"
     },
     "output_type": "display_data"
    }
   ],
   "source": [
    "plt.imshow(some_digit_image, cmap='binary')\n",
    "plt.axis('off')\n",
    "plt.show()"
   ]
  },
  {
   "cell_type": "code",
   "execution_count": 19,
   "metadata": {},
   "outputs": [
    {
     "name": "stdout",
     "output_type": "stream",
     "text": [
      "Label:  5\n"
     ]
    }
   ],
   "source": [
    "print(\"Label: \", y[0])"
   ]
  },
  {
   "cell_type": "code",
   "execution_count": 20,
   "metadata": {},
   "outputs": [],
   "source": [
    "# Casting the labels as strings\n",
    "import numpy as np\n",
    "y = y.astype(np.uint8)"
   ]
  },
  {
   "cell_type": "code",
   "execution_count": 21,
   "metadata": {},
   "outputs": [
    {
     "data": {
      "text/plain": [
       "numpy.uint8"
      ]
     },
     "execution_count": 21,
     "metadata": {},
     "output_type": "execute_result"
    }
   ],
   "source": [
    "type(y[0])"
   ]
  },
  {
   "cell_type": "code",
   "execution_count": 22,
   "metadata": {},
   "outputs": [],
   "source": [
    "# Splitting the training set.\n",
    "X_train, X_test, y_train, y_test = X[:60000], X[60000:], y[:60000], y[60000:]\n"
   ]
  },
  {
   "cell_type": "code",
   "execution_count": 23,
   "metadata": {},
   "outputs": [
    {
     "data": {
      "text/plain": [
       "(10000,)"
      ]
     },
     "execution_count": 23,
     "metadata": {},
     "output_type": "execute_result"
    }
   ],
   "source": [
    "y_test.shape"
   ]
  },
  {
   "cell_type": "code",
   "execution_count": 24,
   "metadata": {},
   "outputs": [],
   "source": [
    "# Classification of the number 5.\n",
    "y_train_5 = (y_train == 5)  # True for all 5s, False for all other digits\n",
    "y_test_5 = (y_test == 5)\n"
   ]
  },
  {
   "cell_type": "code",
   "execution_count": 25,
   "metadata": {},
   "outputs": [
    {
     "data": {
      "text/plain": [
       "(10000,)"
      ]
     },
     "execution_count": 25,
     "metadata": {},
     "output_type": "execute_result"
    }
   ],
   "source": [
    "y_test_5.shape"
   ]
  },
  {
   "cell_type": "code",
   "execution_count": 26,
   "metadata": {},
   "outputs": [
    {
     "data": {
      "text/plain": [
       "SGDClassifier(random_state=42)"
      ]
     },
     "execution_count": 26,
     "metadata": {},
     "output_type": "execute_result"
    }
   ],
   "source": [
    "from sklearn.linear_model import SGDClassifier\n",
    "\n",
    "sgd_clf = SGDClassifier(random_state=42)\n",
    "sgd_clf.fit(X_train, y_train_5)"
   ]
  },
  {
   "cell_type": "code",
   "execution_count": 27,
   "metadata": {},
   "outputs": [
    {
     "data": {
      "text/plain": [
       "array([ True])"
      ]
     },
     "execution_count": 27,
     "metadata": {},
     "output_type": "execute_result"
    }
   ],
   "source": [
    "sgd_clf.predict([some_digit])"
   ]
  },
  {
   "cell_type": "code",
   "execution_count": 28,
   "metadata": {},
   "outputs": [
    {
     "name": "stdout",
     "output_type": "stream",
     "text": [
      "0.9669\n",
      "0.91625\n",
      "0.96785\n"
     ]
    }
   ],
   "source": [
    "from sklearn.model_selection import StratifiedKFold\n",
    "from sklearn.base import clone\n",
    "\n",
    "skfolds = StratifiedKFold(n_splits=3, shuffle=True, random_state=42)\n",
    "\n",
    "for train_index, test_index in skfolds.split(X_train, y_train_5):\n",
    "    clone_clf = clone(sgd_clf)\n",
    "    X_train_folds = X_train[train_index]\n",
    "    y_train_folds = y_train_5[train_index]\n",
    "    X_test_fold = X_train[test_index]\n",
    "    y_test_fold = y_train_5[test_index]\n",
    "\n",
    "    clone_clf.fit(X_train_folds, y_train_folds)\n",
    "    y_pred = clone_clf.predict(X_test_fold)\n",
    "    n_correct = sum(y_pred == y_test_fold)\n",
    "    print(n_correct / len(y_pred))  # prints 0.9502, 0.96565, and 0.96495\n",
    "    "
   ]
  },
  {
   "cell_type": "code",
   "execution_count": 29,
   "metadata": {},
   "outputs": [
    {
     "data": {
      "text/plain": [
       "array([0.95035, 0.96035, 0.9604 ])"
      ]
     },
     "execution_count": 29,
     "metadata": {},
     "output_type": "execute_result"
    }
   ],
   "source": [
    "from sklearn.model_selection import cross_val_score\n",
    "cross_val_score(sgd_clf, X_train, y_train_5, cv=3, scoring=\"accuracy\")"
   ]
  },
  {
   "cell_type": "code",
   "execution_count": 30,
   "metadata": {},
   "outputs": [],
   "source": [
    "from sklearn.base import BaseEstimator\n",
    "\n",
    "class Never5Classifier(BaseEstimator):\n",
    "    def fit(self, X, y=None):\n",
    "        return self\n",
    "    def predict(self, X):\n",
    "        return np.zeros((len(X), 1), dtype=bool)\n"
   ]
  },
  {
   "cell_type": "code",
   "execution_count": 31,
   "metadata": {},
   "outputs": [
    {
     "data": {
      "text/plain": [
       "array([0.91125, 0.90855, 0.90915])"
      ]
     },
     "execution_count": 31,
     "metadata": {},
     "output_type": "execute_result"
    }
   ],
   "source": [
    "never_5_clf = Never5Classifier()\n",
    "cross_val_score(never_5_clf, X_train, y_train_5, cv=3, scoring=\"accuracy\")\n"
   ]
  },
  {
   "cell_type": "code",
   "execution_count": 32,
   "metadata": {},
   "outputs": [],
   "source": [
    "# This demonstrates why accuracy is generally not the preferred\n",
    "#performance measure for classifiers, especially when you are \n",
    "# dealing with skewed datasets \n",
    "#(i.e., when some classes are much more frequent than others)."
   ]
  },
  {
   "cell_type": "code",
   "execution_count": 33,
   "metadata": {},
   "outputs": [],
   "source": [
    "from sklearn.model_selection import cross_val_predict\n",
    "\n",
    "y_train_pred = cross_val_predict(sgd_clf, X_train, y_train_5, cv=3)"
   ]
  },
  {
   "cell_type": "code",
   "execution_count": 34,
   "metadata": {},
   "outputs": [
    {
     "data": {
      "text/plain": [
       "array([[53892,   687],\n",
       "       [ 1891,  3530]])"
      ]
     },
     "execution_count": 34,
     "metadata": {},
     "output_type": "execute_result"
    }
   ],
   "source": [
    "from sklearn.metrics import confusion_matrix\n",
    "confusion_matrix(y_train_5, y_train_pred)"
   ]
  },
  {
   "cell_type": "code",
   "execution_count": 35,
   "metadata": {},
   "outputs": [
    {
     "data": {
      "text/plain": [
       "array([[54579,     0],\n",
       "       [    0,  5421]])"
      ]
     },
     "execution_count": 35,
     "metadata": {},
     "output_type": "execute_result"
    }
   ],
   "source": [
    "y_train_perfect_predictions = y_train_5  # pretend we reached perfection\n",
    "confusion_matrix(y_train_5, y_train_perfect_predictions)"
   ]
  },
  {
   "cell_type": "code",
   "execution_count": 36,
   "metadata": {},
   "outputs": [
    {
     "data": {
      "text/plain": [
       "0.8370879772350012"
      ]
     },
     "execution_count": 36,
     "metadata": {},
     "output_type": "execute_result"
    }
   ],
   "source": [
    "from sklearn.metrics import precision_score, recall_score\n",
    "precision_score(y_train_5, y_train_pred) # == 4096 / (4096 + 1522)\n"
   ]
  },
  {
   "cell_type": "code",
   "execution_count": 37,
   "metadata": {},
   "outputs": [
    {
     "data": {
      "text/plain": [
       "0.6511713705958311"
      ]
     },
     "execution_count": 37,
     "metadata": {},
     "output_type": "execute_result"
    }
   ],
   "source": [
    "recall_score(y_train_5, y_train_pred) # == 4096 / (4096 + 1325)\n"
   ]
  },
  {
   "cell_type": "code",
   "execution_count": 38,
   "metadata": {},
   "outputs": [
    {
     "data": {
      "text/plain": [
       "0.7325171197343846"
      ]
     },
     "execution_count": 38,
     "metadata": {},
     "output_type": "execute_result"
    }
   ],
   "source": [
    "from sklearn.metrics import f1_score\n",
    "f1_score(y_train_5, y_train_pred)"
   ]
  },
  {
   "cell_type": "code",
   "execution_count": 39,
   "metadata": {},
   "outputs": [
    {
     "data": {
      "text/plain": [
       "array([False])"
      ]
     },
     "execution_count": 39,
     "metadata": {},
     "output_type": "execute_result"
    }
   ],
   "source": [
    "y_scores = sgd_clf.decision_function([some_digit])\n",
    "threshold = 0\n",
    "y_some_digit_pred = (y_scores > threshold)\n",
    "threshold = 8000\n",
    "y_some_digit_pred = (y_scores > threshold)\n",
    "y_some_digit_pred\n"
   ]
  },
  {
   "cell_type": "code",
   "execution_count": 40,
   "metadata": {},
   "outputs": [],
   "source": [
    "## Precision/Recall trade-off\n",
    "\n",
    "y_scores = cross_val_predict(sgd_clf, X_train, y_train_5, cv=3,\n",
    "                             method=\"decision_function\")\n",
    "from sklearn.metrics import precision_recall_curve\n",
    "\n",
    "precisions, recalls, thresholds = precision_recall_curve(y_train_5, y_scores)\n",
    "\n"
   ]
  },
  {
   "cell_type": "code",
   "execution_count": 41,
   "metadata": {},
   "outputs": [
    {
     "data": {
      "image/png": "[encoded data removed]",
      "text/plain": [
       "<Figure size 576x288 with 1 Axes>"
      ]
     },
     "metadata": {
      "needs_background": "light"
     },
     "output_type": "display_data"
    }
   ],
   "source": [
    "\n",
    "def plot_precision_recall_vs_threshold(precisions, recalls, thresholds):\n",
    "    plt.plot(thresholds, precisions[:-1], \"b--\", label=\"Precision\", linewidth=2)\n",
    "    plt.plot(thresholds, recalls[:-1], \"g-\", label=\"Recall\", linewidth=2)\n",
    "    plt.legend(loc=\"center right\", fontsize=16) \n",
    "    plt.xlabel(\"Threshold\", fontsize=16)        \n",
    "    plt.grid(True)                              \n",
    "    plt.axis([-50000, 50000, 0, 1])             \n",
    "\n",
    "\n",
    "\n",
    "recall_90_precision = recalls[np.argmax(precisions >= 0.90)]\n",
    "threshold_90_precision = thresholds[np.argmax(precisions >= 0.90)]\n",
    "\n",
    "\n",
    "plt.figure(figsize=(8, 4))                                                                  # Not shown\n",
    "plot_precision_recall_vs_threshold(precisions, recalls, thresholds)\n",
    "plt.plot([threshold_90_precision, threshold_90_precision], [0., 0.9], \"r:\")                 # Not shown\n",
    "plt.plot([-50000, threshold_90_precision], [0.9, 0.9], \"r:\")                                # Not shown\n",
    "plt.plot([-50000, threshold_90_precision], [recall_90_precision, recall_90_precision], \"r:\")# Not shown\n",
    "plt.plot([threshold_90_precision], [0.9], \"ro\")                                             # Not shown\n",
    "plt.plot([threshold_90_precision], [recall_90_precision], \"ro\")                             # Not shown\n",
    "plt.show()"
   ]
  },
  {
   "cell_type": "code",
   "execution_count": 42,
   "metadata": {},
   "outputs": [],
   "source": [
    "threshold_90_precision = thresholds[np.argmax(precisions >= 0.90)]"
   ]
  },
  {
   "cell_type": "code",
   "execution_count": 43,
   "metadata": {},
   "outputs": [
    {
     "data": {
      "text/plain": [
       "3370.0194991439557"
      ]
     },
     "execution_count": 43,
     "metadata": {},
     "output_type": "execute_result"
    }
   ],
   "source": [
    "threshold_90_precision"
   ]
  },
  {
   "cell_type": "code",
   "execution_count": 44,
   "metadata": {},
   "outputs": [],
   "source": [
    "y_train_pred_90 = (y_scores >= threshold_90_precision)\n"
   ]
  },
  {
   "cell_type": "code",
   "execution_count": 45,
   "metadata": {},
   "outputs": [
    {
     "data": {
      "text/plain": [
       "0.9000345901072293"
      ]
     },
     "execution_count": 45,
     "metadata": {},
     "output_type": "execute_result"
    }
   ],
   "source": [
    "precision_score(y_train_5, y_train_pred_90)"
   ]
  },
  {
   "cell_type": "code",
   "execution_count": 46,
   "metadata": {},
   "outputs": [
    {
     "data": {
      "text/plain": [
       "0.4799852425751706"
      ]
     },
     "execution_count": 46,
     "metadata": {},
     "output_type": "execute_result"
    }
   ],
   "source": [
    "recall_score(y_train_5, y_train_pred_90)"
   ]
  },
  {
   "cell_type": "code",
   "execution_count": 47,
   "metadata": {},
   "outputs": [],
   "source": [
    "from sklearn.metrics import roc_curve\n",
    "\n",
    "fpr, tpr, thresholds = roc_curve(y_train_5, y_scores)\n"
   ]
  },
  {
   "cell_type": "code",
   "execution_count": 48,
   "metadata": {},
   "outputs": [
    {
     "data": {
      "image/png": "[encoded data removed]",
      "text/plain": [
       "<Figure size 576x432 with 1 Axes>"
      ]
     },
     "metadata": {
      "needs_background": "light"
     },
     "output_type": "display_data"
    }
   ],
   "source": [
    "def plot_roc_curve(fpr, tpr, label=None):\n",
    "    plt.plot(fpr, tpr, linewidth=2, label=label)\n",
    "    plt.plot([0, 1], [0, 1], 'k--') # dashed diagonal\n",
    "    plt.axis([0, 1, 0, 1])                                    \n",
    "    plt.xlabel('False Positive Rate (Fall-Out)', fontsize=16) \n",
    "    plt.ylabel('True Positive Rate (Recall)', fontsize=16)    \n",
    "    plt.grid(True)                                            \n",
    "\n",
    "plt.figure(figsize=(8, 6))                                   \n",
    "plot_roc_curve(fpr, tpr)\n",
    "fpr_90 = fpr[np.argmax(tpr >= recall_90_precision)]          \n",
    "plt.plot([fpr_90, fpr_90], [0., recall_90_precision], \"r:\")   \n",
    "plt.plot([0.0, fpr_90], [recall_90_precision, recall_90_precision], \"r:\")  \n",
    "plt.plot([fpr_90], [recall_90_precision], \"ro\")               \n",
    "plt.show()"
   ]
  },
  {
   "cell_type": "code",
   "execution_count": 49,
   "metadata": {},
   "outputs": [
    {
     "data": {
      "text/plain": [
       "0.9604938554008616"
      ]
     },
     "execution_count": 49,
     "metadata": {},
     "output_type": "execute_result"
    }
   ],
   "source": [
    "# One way to compare classifiers: \n",
    "\n",
    "from sklearn.metrics import roc_auc_score\n",
    "roc_auc_score(y_train_5, y_scores)"
   ]
  },
  {
   "cell_type": "code",
   "execution_count": 50,
   "metadata": {},
   "outputs": [],
   "source": [
    "# Comparing RandomForestClassifier vs SDGClassifier\n",
    "from sklearn.ensemble import RandomForestClassifier\n",
    "\n",
    "forest_clf = RandomForestClassifier(random_state=42)\n",
    "y_probas_forest = cross_val_predict(forest_clf, X_train, y_train_5, \n",
    "                                   cv=3, method=\"predict_proba\")"
   ]
  },
  {
   "cell_type": "code",
   "execution_count": 51,
   "metadata": {},
   "outputs": [],
   "source": [
    "y_scores_forest = y_probas_forest[:, 1]  # score = proba of positive class\n",
    "fpr_forest, tpr_forest, thresholds_forest = roc_curve(y_train_5,y_scores_forest)\n"
   ]
  },
  {
   "cell_type": "code",
   "execution_count": 52,
   "metadata": {},
   "outputs": [
    {
     "data": {
      "image/png": "[encoded data removed]",
      "text/plain": [
       "<Figure size 432x288 with 1 Axes>"
      ]
     },
     "metadata": {
      "needs_background": "light"
     },
     "output_type": "display_data"
    }
   ],
   "source": [
    "plt.plot(fpr, tpr, \"b:\", label=\"SGD\")\n",
    "plot_roc_curve(fpr_forest, tpr_forest, \"Random Forest\")\n",
    "plt.legend(loc=\"lower right\")\n",
    "plt.show()"
   ]
  },
  {
   "cell_type": "code",
   "execution_count": 53,
   "metadata": {},
   "outputs": [
    {
     "data": {
      "text/plain": [
       "0.9983436731328145"
      ]
     },
     "execution_count": 53,
     "metadata": {},
     "output_type": "execute_result"
    }
   ],
   "source": [
    "roc_auc_score(y_train_5, y_scores_forest)"
   ]
  },
  {
   "cell_type": "code",
   "execution_count": 54,
   "metadata": {},
   "outputs": [],
   "source": [
    "# You now know how to train binary classifiers, \n",
    "# choose the appropriate metric for your task, \n",
    "# evaluate your classifiers using cross-validation, \n",
    "# select the precision/recall trade-off that fits your needs, \n",
    "# and use ROC curves and ROC AUC scores to compare various models. \n",
    "#Now let’s try to detect more than just the 5s."
   ]
  },
  {
   "cell_type": "code",
   "execution_count": 55,
   "metadata": {},
   "outputs": [
    {
     "data": {
      "text/plain": [
       "array([5], dtype=uint8)"
      ]
     },
     "execution_count": 55,
     "metadata": {},
     "output_type": "execute_result"
    }
   ],
   "source": [
    "from sklearn.svm import SVC\n",
    "svm_clf = SVC()\n",
    "svm_clf.fit(X_train, y_train)\n",
    "svm_clf.predict([some_digit])"
   ]
  },
  {
   "cell_type": "code",
   "execution_count": 56,
   "metadata": {},
   "outputs": [
    {
     "data": {
      "text/plain": [
       "array([[ 1.72501977,  2.72809088,  7.2510018 ,  8.3076379 , -0.31087254,\n",
       "         9.3132482 ,  1.70975103,  2.76765202,  6.23049537,  4.84771048]])"
      ]
     },
     "execution_count": 56,
     "metadata": {},
     "output_type": "execute_result"
    }
   ],
   "source": [
    "some_digit_scores = svm_clf.decision_function([some_digit])\n",
    "some_digit_scores"
   ]
  },
  {
   "cell_type": "code",
   "execution_count": null,
   "metadata": {},
   "outputs": [],
   "source": []
  }
 ],
 "metadata": {
  "kernelspec": {
   "display_name": "Python 3",
   "language": "python",
   "name": "python3"
  },
  "language_info": {
   "codemirror_mode": {
    "name": "ipython",
    "version": 3
   },
   "file_extension": ".py",
   "mimetype": "text/x-python",
   "name": "python",
   "nbconvert_exporter": "python",
   "pygments_lexer": "ipython3",
   "version": "3.8.5"
  }
 },
 "nbformat": 4,
 "nbformat_minor": 4
}
